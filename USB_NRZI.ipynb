{
  "nbformat": 4,
  "nbformat_minor": 0,
  "metadata": {
    "kernelspec": {
      "display_name": "Python 3",
      "language": "python",
      "name": "python3"
    },
    "language_info": {
      "codemirror_mode": {
        "name": "ipython",
        "version": 3
      },
      "file_extension": ".py",
      "mimetype": "text/x-python",
      "name": "python",
      "nbconvert_exporter": "python",
      "pygments_lexer": "ipython3",
      "version": "3.7.9"
    },
    "colab": {
      "name": "USB_NRZI.ipynb",
      "provenance": []
    }
  },
  "cells": [
    {
      "cell_type": "markdown",
      "metadata": {
        "id": "AxcwIb4qmEGK"
      },
      "source": [
        "# NRZI編碼的全稱為反向不歸零編碼，這種編碼方式集成了前兩種編碼的優點，即既能傳輸時鐘訊號，又能儘量不損失系統頻寬。對於USB2.0通訊的編碼方式就是NRZI編碼。其實NRZI編碼方式非常的簡單，即訊號電平翻轉表示0，訊號電平不變表示1。例如想要表示00100010(B)"
      ]
    },
    {
      "cell_type": "markdown",
      "metadata": {
        "id": "4w5Bw8ZgmEGL"
      },
      "source": [
        "![image.png](attachment:image.png)"
      ]
    },
    {
      "cell_type": "code",
      "metadata": {
        "scrolled": true,
        "id": "BvL0J5iEmEGL",
        "outputId": "8149dce0-8c9d-486c-9d44-e24b3fa3e2c4"
      },
      "source": [
        "def nrzi(data):\n",
        "    bit=''\n",
        "    for i in range(len(data)):\n",
        "        if i==0:\n",
        "            bit+=data[0]\n",
        "            #print(bit)\n",
        "        else:\n",
        "            if data[i]==bit[i-1]:\n",
        "                bit+='1'\n",
        "            else:\n",
        "                bit+='0'\n",
        "    return bit\n",
        "    #print(bit)\n",
        "    #print (data[i])\n",
        "\n",
        "SYNC='00000000'*3+'00000001'\n",
        "DATA0PID='11000011'\n",
        "JKJKJKJK=('00000000')\n",
        "\n",
        "print('SYNC', nrzi(SYNC), len(nrzi(SYNC)))\n",
        "print('DATA0PID', nrzi(DATA0PID), len(nrzi(DATA0PID)))\n",
        "print('JKJKJKJK', nrzi('00000000'*9), len(nrzi('00000000'*9)))\n",
        "print('JJKKJJKK', nrzi('01010101'*8), len(nrzi('01010101'*8)))\n",
        "print('JJJJKKKK', nrzi('01110111'*8), len(nrzi('01010101'*8)))"
      ],
      "execution_count": null,
      "outputs": [
        {
          "output_type": "stream",
          "text": [
            "SYNC 01010101010101010101010101010100 32\n",
            "DATA0PID 11010111 8\n",
            "JKJKJKJK 010101010101010101010101010101010101010101010101010101010101010101010101 72\n",
            "JJKKJJKK 0011001100110011001100110011001100110011001100110011001100110011 64\n",
            "JJJJKKKK 0000111100001111000011110000111100001111000011110000111100001111 64\n"
          ],
          "name": "stdout"
        }
      ]
    },
    {
      "cell_type": "markdown",
      "metadata": {
        "id": "2q9RSrunmEGM"
      },
      "source": [
        "# 在USB2.0的協議中規定為傳輸7個1則在資料中插入一個0。"
      ]
    },
    {
      "cell_type": "code",
      "metadata": {
        "id": "Oi48EDemmEGM",
        "outputId": "c0a6475d-ab14-4c90-ee10-da17067ae5c6"
      },
      "source": [
        "def nrzi(data):\n",
        "    bit=''\n",
        "    countone=0\n",
        "    for i in range(len(data)):\n",
        "        if i==0:\n",
        "            bit+=data[0]\n",
        "        else:\n",
        "            if data[i]==bit[i-1]:\n",
        "              bitNRZI='1'\n",
        "            else:\n",
        "              bitNRZI='0'\n",
        "            #stuff check\n",
        "\n",
        "            if bit[-1]==bitNRZI:\n",
        "              countone+=1\n",
        "            else:\n",
        "              countone=0\n",
        "            \n",
        "            #print(countone)\n",
        "\n",
        "            if countone==6:\n",
        "              if bitNRZI=='1':\n",
        "                bitNRZI='01'\n",
        "              else:\n",
        "                bitNRZI='10'\n",
        "              countone=0\n",
        "\n",
        "            #print(bitNRZI)\n",
        "            bit+=bitNRZI\n",
        "    return bit\n",
        "\n",
        "\n",
        "SYNC='00000000'*3+'00000001'\n",
        "DATA0PID='11000011'\n",
        "JKJKJKJK='00000000'\n",
        "JJKKJJKK8='01010101'*8\n",
        "JJJJKKKK8='01110111'*8\n",
        "JJJJJJJKKKKKKK8='0'+'111111'*15+'111111'\n",
        "JJJJJJJK8='111111'+'0111111'*7\n",
        "JKKKKKKK10JK='00111111'+'0111111'*9+'0'\n",
        "JJJKKKJJKKKKJKKK='0110110101110011'\n",
        "EOP='01111111'\n",
        "\n",
        "\n",
        "CTP=SYNC+DATA0PID+JKJKJKJK+JJKKJJKK8+JJJJKKKK8+JJJJJJJKKKKKKK8+JJJJJJJK8+JKKKKKKK10JK+JJJKKKJJKKKKJKKK+EOP\n",
        "\n",
        "# print('SYNC', nrzi(SYNC), len(nrzi(SYNC)))\n",
        "# print('DATA0PID', nrzi(DATA0PID), len(nrzi(DATA0PID)))\n",
        "# print('JKJKJKJK', nrzi('00000000'*9), len(nrzi('00000000'*9)))\n",
        "# print('JJKKJJKK', nrzi('01010101'*8), len(nrzi('01010101'*8)))\n",
        "# print('JJJJKKKK', nrzi('01110111'*8), len(nrzi('01010101'*8)))\n",
        "# print(nrzi(JJJJJJJKKKKKKK), len(nrzi(JJJJJJJKKKKKKK)))\n",
        "# print(nrzi(JJJJJJJK8), len(nrzi(JJJJJJJK8)))\n",
        "# print(nrzi(JKKKKKKK10JK), len(nrzi(JKKKKKKK10JK)))\n",
        "# print(nrzi(JJJKKKJJKKKKJKKK), len(nrzi(JJJKKKJJKKKKJKKK)))\n",
        "# print(nrzi(EOP), len(nrzi(EOP)))\n",
        "print(nrzi(CTP))\n",
        "print(len(nrzi(CTP)))\n"
      ],
      "execution_count": null,
      "outputs": [
        {
          "output_type": "stream",
          "text": [
            "0000000111111100000001111111000000011111110000000111111100000001111111000000011111110000000111111100000001111111 112\n",
            "1111110000000111111100000001111111000000011111110000000 55\n"
          ],
          "name": "stdout"
        }
      ]
    }
  ]
}